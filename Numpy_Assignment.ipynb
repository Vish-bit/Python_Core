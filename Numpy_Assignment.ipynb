{
  "cells": [
    {
      "cell_type": "markdown",
      "metadata": {
        "colab_type": "text",
        "id": "view-in-github"
      },
      "source": [
        "<a href=\"https://colab.research.google.com/github/Vish-bit/Python_Core/blob/data-science-python/Numpy_Assignment.ipynb\" target=\"_parent\"><img src=\"https://colab.research.google.com/assets/colab-badge.svg\" alt=\"Open In Colab\"/></a>"
      ]
    },
    {
      "cell_type": "markdown",
      "metadata": {
        "id": "whSVhscb5mp6"
      },
      "source": [
        "#Provided by AI SOCIETY.\n",
        "##Trainer- Sameer Nigam"
      ]
    },
    {
      "cell_type": "markdown",
      "metadata": {
        "id": "Vjmmxu1c5mqE"
      },
      "source": [
        "# NumPy Exercises\n",
        "\n",
        "Now that we've learned about NumPy let's test your knowledge. We'll start off with a few simple tasks, and then you'll be asked some more complicated questions."
      ]
    },
    {
      "cell_type": "markdown",
      "metadata": {
        "id": "I6VNePza5mqN"
      },
      "source": [
        "#### Import NumPy as np"
      ]
    },
    {
      "cell_type": "code",
      "execution_count": 3,
      "metadata": {
        "collapsed": true,
        "id": "i9ZkXVEg5mqP"
      },
      "outputs": [],
      "source": [
        "import numpy as np\n",
        "import random"
      ]
    },
    {
      "cell_type": "markdown",
      "metadata": {
        "id": "3HH017mw5mqR"
      },
      "source": [
        "#### Create an array of 10 zeros"
      ]
    },
    {
      "cell_type": "code",
      "execution_count": 3,
      "metadata": {
        "colab": {
          "base_uri": "https://localhost:8080/"
        },
        "id": "R3aiibcyAner",
        "outputId": "ad0b773a-081c-4cbe-8366-e11c00b297c4"
      },
      "outputs": [
        {
          "name": "stdout",
          "output_type": "stream",
          "text": [
            "[[0. 0. 0. 0. 0. 0. 0. 0. 0. 0.]]\n"
          ]
        }
      ],
      "source": [
        "print(np.zeros((1,10)))"
      ]
    },
    {
      "cell_type": "markdown",
      "metadata": {
        "id": "LaDDsX6S5mqW"
      },
      "source": [
        "#### Create an array of 10 ones"
      ]
    },
    {
      "cell_type": "code",
      "execution_count": 4,
      "metadata": {
        "colab": {
          "base_uri": "https://localhost:8080/"
        },
        "id": "MvT7zQ8M5mqY",
        "outputId": "cc21c40e-8e6e-4688-c620-9aaffe4d750c"
      },
      "outputs": [
        {
          "name": "stdout",
          "output_type": "stream",
          "text": [
            "[[1. 1. 1. 1. 1. 1. 1. 1. 1. 1.]]\n"
          ]
        }
      ],
      "source": [
        "print(np.ones((1,10)))"
      ]
    },
    {
      "cell_type": "markdown",
      "metadata": {
        "id": "ijBEipMe5mqb"
      },
      "source": [
        "#### Create an array of 10 fives"
      ]
    },
    {
      "cell_type": "code",
      "execution_count": 12,
      "metadata": {
        "colab": {
          "base_uri": "https://localhost:8080/"
        },
        "id": "6KoZYiYh5mqd",
        "outputId": "83bd44ca-b781-4174-f759-a4eb98252c40"
      },
      "outputs": [
        {
          "name": "stdout",
          "output_type": "stream",
          "text": [
            "array([[5 5 5 5 5 5 5 5 5 5]])\n"
          ]
        }
      ],
      "source": [
        "arr = np.full((1,10),5)\n",
        "print(f\"array({arr})\")"
      ]
    },
    {
      "cell_type": "markdown",
      "metadata": {
        "id": "01rUgqnQ5mqe"
      },
      "source": [
        "#### Create an array of the integers from 10 to 50"
      ]
    },
    {
      "cell_type": "code",
      "execution_count": 11,
      "metadata": {
        "colab": {
          "base_uri": "https://localhost:8080/"
        },
        "id": "9ssKUlJc5mqf",
        "outputId": "75606a3a-24a7-4538-fcae-4cdc4471d6f1"
      },
      "outputs": [
        {
          "name": "stdout",
          "output_type": "stream",
          "text": [
            "array([10 11 12 13 14 15 16 17 18 19 20 21 22 23 24 25 26 27 28 29 30 31 32 33\n",
            " 34 35 36 37 38 39 40 41 42 43 44 45 46 47 48 49 50])\n"
          ]
        }
      ],
      "source": [
        "arr = np.arange(10, 51, 1)\n",
        "print(f\"array({arr})\")"
      ]
    },
    {
      "cell_type": "markdown",
      "metadata": {
        "id": "ngKuxW3f5mqg"
      },
      "source": [
        "#### Create an array of all the even integers from 10 to 50"
      ]
    },
    {
      "cell_type": "code",
      "execution_count": 10,
      "metadata": {
        "colab": {
          "base_uri": "https://localhost:8080/"
        },
        "id": "a78mahUF5mqh",
        "outputId": "2422e734-3793-43b6-f817-9fc982ef3f08"
      },
      "outputs": [
        {
          "name": "stdout",
          "output_type": "stream",
          "text": [
            "array([10 12 14 16 18 20 22 24 26 28 30 32 34 36 38 40 42 44 46 48 50])\n"
          ]
        }
      ],
      "source": [
        "arr = np.arange(10, 51, 2)\n",
        "print(f\"array({arr})\")"
      ]
    },
    {
      "cell_type": "markdown",
      "metadata": {
        "id": "jBWttJI95mqj"
      },
      "source": [
        "#### Create a 3x3 matrix with values ranging from 0 to 8"
      ]
    },
    {
      "cell_type": "code",
      "execution_count": 9,
      "metadata": {
        "colab": {
          "base_uri": "https://localhost:8080/"
        },
        "id": "HWRlUedN5mqk",
        "outputId": "f9c8805d-ca9b-4b39-faa3-5c14b3098852"
      },
      "outputs": [
        {
          "name": "stdout",
          "output_type": "stream",
          "text": [
            "array([[0 1 2]\n",
            " [3 4 5]\n",
            " [6 7 8]])\n"
          ]
        }
      ],
      "source": [
        "list3D = [[0,1,2],[3,4,5],[6,7,8]]\n",
        "print(f\"array({np.array(list3D)})\")"
      ]
    },
    {
      "cell_type": "markdown",
      "metadata": {
        "id": "PogLKBYx5mql"
      },
      "source": [
        "#### Create a 3x3 identity matrix"
      ]
    },
    {
      "cell_type": "code",
      "execution_count": 13,
      "metadata": {
        "colab": {
          "base_uri": "https://localhost:8080/"
        },
        "id": "z68n4NtW5mqm",
        "outputId": "6b15cd70-71d3-4400-a07d-fcfd543d3417"
      },
      "outputs": [
        {
          "name": "stdout",
          "output_type": "stream",
          "text": [
            "array([[1. 0. 0.]\n",
            " [0. 1. 0.]\n",
            " [0. 0. 1.]])\n"
          ]
        }
      ],
      "source": [
        "matrix = np.eye(3)\n",
        "print(f\"array({matrix})\")"
      ]
    },
    {
      "cell_type": "markdown",
      "metadata": {
        "id": "yJXwiOpj5mqn"
      },
      "source": [
        "#### Use NumPy to generate a random number between 0 and 1"
      ]
    },
    {
      "cell_type": "code",
      "execution_count": 4,
      "metadata": {
        "id": "MR1b8jXA5mqn",
        "outputId": "cfbd2b29-c827-498b-d884-c463369a2d99"
      },
      "outputs": [
        {
          "name": "stdout",
          "output_type": "stream",
          "text": [
            "array(0.4636361447415325)\n"
          ]
        }
      ],
      "source": [
        "randNum = random.random()\n",
        "print(f\"array({randNum})\")"
      ]
    },
    {
      "cell_type": "markdown",
      "metadata": {
        "id": "OPP_ADaA5mqs"
      },
      "source": [
        "#### Use NumPy to generate an array of 25 random numbers sampled from a standard normal distribution"
      ]
    },
    {
      "cell_type": "code",
      "execution_count": 5,
      "metadata": {
        "id": "-vQO7Kew5mqt",
        "outputId": "0ba8de17-dfcb-4940-8db2-3125cf8d29c3"
      },
      "outputs": [
        {
          "name": "stdout",
          "output_type": "stream",
          "text": [
            "array([ 0.36216955 -0.60920253  1.53508329 -1.15215304  3.06496655 -1.90018207\n",
            " -0.79726847  0.24795915 -0.95181635  0.39955798  1.28599741 -0.73260696\n",
            " -1.40718858  2.35339128  0.9428075  -0.77307386 -0.65222783  0.20540237\n",
            "  0.34344121  0.82978396 -2.92590432  1.27516939  1.1961528   0.80811906\n",
            " -1.03156609])\n"
          ]
        }
      ],
      "source": [
        "randomArr = np.random.normal(loc=0,scale=1, size=25)\n",
        "print(f\"array({randomArr})\")"
      ]
    },
    {
      "cell_type": "markdown",
      "metadata": {
        "id": "HOJmwW6X5mqu"
      },
      "source": [
        "#### Create the following matrix:"
      ]
    },
    {
      "cell_type": "code",
      "execution_count": 6,
      "metadata": {
        "id": "9JR1VOTS5mqv",
        "outputId": "fcbea246-8c03-4bba-84b7-19df191ff848"
      },
      "outputs": [
        {
          "name": "stdout",
          "output_type": "stream",
          "text": [
            "array([[0.01 0.02 0.03 0.04 0.05 0.06 0.07 0.08 0.09 0.1 ]\n",
            " [0.11 0.12 0.13 0.14 0.15 0.16 0.17 0.18 0.19 0.2 ]\n",
            " [0.21 0.22 0.23 0.24 0.25 0.26 0.27 0.28 0.29 0.3 ]\n",
            " [0.31 0.32 0.33 0.34 0.35 0.36 0.37 0.38 0.39 0.4 ]\n",
            " [0.41 0.42 0.43 0.44 0.45 0.46 0.47 0.48 0.49 0.5 ]\n",
            " [0.51 0.52 0.53 0.54 0.55 0.56 0.57 0.58 0.59 0.6 ]\n",
            " [0.61 0.62 0.63 0.64 0.65 0.66 0.67 0.68 0.69 0.7 ]\n",
            " [0.71 0.72 0.73 0.74 0.75 0.76 0.77 0.78 0.79 0.8 ]\n",
            " [0.81 0.82 0.83 0.84 0.85 0.86 0.87 0.88 0.89 0.9 ]\n",
            " [0.91 0.92 0.93 0.94 0.95 0.96 0.97 0.98 0.99 1.  ]])\n"
          ]
        }
      ],
      "source": [
        "matrix = np.arange(0.01, 1.01, 0.01).reshape(10,10)\n",
        "print(f\"array({matrix})\")"
      ]
    },
    {
      "cell_type": "markdown",
      "metadata": {
        "id": "vHPKEExL5mqw"
      },
      "source": [
        "#### Create an array of 20 linearly spaced points between 0 and 1:"
      ]
    },
    {
      "cell_type": "code",
      "execution_count": 7,
      "metadata": {
        "id": "f5sWoflC5mqx",
        "outputId": "15bc1de7-5e93-425d-fb81-b7bd3b59b5f3"
      },
      "outputs": [
        {
          "name": "stdout",
          "output_type": "stream",
          "text": [
            "array([0.         0.05263158 0.10526316 0.15789474 0.21052632 0.26315789\n",
            " 0.31578947 0.36842105 0.42105263 0.47368421 0.52631579 0.57894737\n",
            " 0.63157895 0.68421053 0.73684211 0.78947368 0.84210526 0.89473684\n",
            " 0.94736842 1.        ])\n"
          ]
        }
      ],
      "source": [
        "matrix = np.linspace(0,1, num=20)\n",
        "print(f\"array({matrix})\")"
      ]
    },
    {
      "cell_type": "markdown",
      "metadata": {
        "id": "8XpZ1TbI5mqx"
      },
      "source": [
        "## Numpy Indexing and Selection\n",
        "\n",
        "Now you will be given a few matrices, and be asked to replicate the resulting matrix outputs:"
      ]
    },
    {
      "cell_type": "code",
      "execution_count": null,
      "metadata": {
        "id": "puOigpvh5mqy",
        "outputId": "68772c40-8635-4984-b23b-224645bc7328"
      },
      "outputs": [
        {
          "data": {
            "text/plain": [
              "array([[ 1,  2,  3,  4,  5],\n",
              "       [ 6,  7,  8,  9, 10],\n",
              "       [11, 12, 13, 14, 15],\n",
              "       [16, 17, 18, 19, 20],\n",
              "       [21, 22, 23, 24, 25]])"
            ]
          },
          "execution_count": 38,
          "metadata": {},
          "output_type": "execute_result"
        }
      ],
      "source": [
        "mat = np.arange(1,26).reshape(5,5)\n",
        "mat"
      ]
    },
    {
      "cell_type": "code",
      "execution_count": null,
      "metadata": {
        "collapsed": true,
        "id": "StczrFTN5mq1"
      },
      "outputs": [],
      "source": [
        "# WRITE CODE HERE THAT REPRODUCES THE OUTPUT OF THE CELL BELOW\n",
        "# BE CAREFUL NOT TO RUN THE CELL BELOW, OTHERWISE YOU WON'T\n",
        "# BE ABLE TO SEE THE OUTPUT ANY MORE"
      ]
    },
    {
      "cell_type": "code",
      "execution_count": 9,
      "metadata": {
        "id": "-5mF5LQE5mq2",
        "outputId": "f912d504-ccdd-4b6b-a1d0-4eee5f8a8270"
      },
      "outputs": [
        {
          "data": {
            "text/plain": [
              "array([[12, 13, 14, 15],\n",
              "       [17, 18, 19, 20],\n",
              "       [22, 23, 24, 25]])"
            ]
          },
          "execution_count": 9,
          "metadata": {},
          "output_type": "execute_result"
        }
      ],
      "source": [
        "matrix = np.arange(12,27).reshape(3,5)\n",
        "result = matrix[:, :-1]\n",
        "result"
      ]
    },
    {
      "cell_type": "code",
      "execution_count": null,
      "metadata": {
        "collapsed": true,
        "id": "tLCbanmx5mq6"
      },
      "outputs": [],
      "source": [
        "# WRITE CODE HERE THAT REPRODUCES THE OUTPUT OF THE CELL BELOW\n",
        "# BE CAREFUL NOT TO RUN THE CELL BELOW, OTHERWISE YOU WON'T\n",
        "# BE ABLE TO SEE THE OUTPUT ANY MORE"
      ]
    },
    {
      "cell_type": "code",
      "execution_count": 10,
      "metadata": {
        "id": "BlmBc_9H5mq7",
        "outputId": "dafdf119-1b3f-4798-af78-339098558ba2"
      },
      "outputs": [
        {
          "data": {
            "text/plain": [
              "array([[ 2],\n",
              "       [ 7],\n",
              "       [12]])"
            ]
          },
          "execution_count": 10,
          "metadata": {},
          "output_type": "execute_result"
        }
      ],
      "source": [
        "matrix = np.arange(2, 13, 5).reshape(3,1)\n",
        "matrix"
      ]
    },
    {
      "cell_type": "code",
      "execution_count": null,
      "metadata": {
        "collapsed": true,
        "id": "X1M2GJ1I5mq7"
      },
      "outputs": [],
      "source": [
        "# WRITE CODE HERE THAT REPRODUCES THE OUTPUT OF THE CELL BELOW\n",
        "# BE CAREFUL NOT TO RUN THE CELL BELOW, OTHERWISE YOU WON'T\n",
        "# BE ABLE TO SEE THE OUTPUT ANY MORE"
      ]
    },
    {
      "cell_type": "code",
      "execution_count": 11,
      "metadata": {
        "id": "6Jk-m0n-5mq9",
        "outputId": "53aa0932-8b33-4eea-e4f5-11486159c182"
      },
      "outputs": [
        {
          "data": {
            "text/plain": [
              "array([21, 22, 23, 24, 25])"
            ]
          },
          "execution_count": 11,
          "metadata": {},
          "output_type": "execute_result"
        }
      ],
      "source": [
        "newArr = np.arange(21,26,1)\n",
        "newArr"
      ]
    },
    {
      "cell_type": "code",
      "execution_count": null,
      "metadata": {
        "collapsed": true,
        "id": "rhA9UBCo5mq-"
      },
      "outputs": [],
      "source": [
        "# WRITE CODE HERE THAT REPRODUCES THE OUTPUT OF THE CELL BELOW\n",
        "# BE CAREFUL NOT TO RUN THE CELL BELOW, OTHERWISE YOU WON'T\n",
        "# BE ABLE TO SEE THE OUTPUT ANY MORE"
      ]
    },
    {
      "cell_type": "code",
      "execution_count": 12,
      "metadata": {
        "id": "sRSyTClY5mq_",
        "outputId": "68311fb5-eadf-4ade-ab71-7062f11c9159"
      },
      "outputs": [
        {
          "data": {
            "text/plain": [
              "array([[16, 17, 18, 19, 20],\n",
              "       [21, 22, 23, 24, 25]])"
            ]
          },
          "execution_count": 12,
          "metadata": {},
          "output_type": "execute_result"
        }
      ],
      "source": [
        "matrix = np.arange(16, 26, 1).reshape(2,5)\n",
        "matrix"
      ]
    },
    {
      "cell_type": "markdown",
      "metadata": {
        "id": "KzYer00v5mq_"
      },
      "source": [
        "### Now do the following"
      ]
    },
    {
      "cell_type": "markdown",
      "metadata": {
        "id": "kA9N9nLR5mrO"
      },
      "source": [
        "#### Get the sum of all the values in mat"
      ]
    },
    {
      "cell_type": "code",
      "execution_count": 14,
      "metadata": {
        "id": "7YaSjyrQ5mrP",
        "outputId": "d0fdf38c-92ff-44c8-ff93-46220401e6a6"
      },
      "outputs": [
        {
          "name": "stdout",
          "output_type": "stream",
          "text": [
            "205\n"
          ]
        }
      ],
      "source": [
        "matrix = np.arange(16, 26, 1).reshape(2,5)\n",
        "print(np.sum(matrix))"
      ]
    },
    {
      "cell_type": "markdown",
      "metadata": {
        "id": "sZ3f4b2G5mrQ"
      },
      "source": [
        "#### Get the standard deviation of the values in mat"
      ]
    },
    {
      "cell_type": "code",
      "execution_count": 15,
      "metadata": {
        "id": "WtcfhYyr5mrQ",
        "outputId": "74971cc1-2911-4ba1-f6bc-de132fa6a9a1"
      },
      "outputs": [
        {
          "name": "stdout",
          "output_type": "stream",
          "text": [
            "2.8722813232690143\n"
          ]
        }
      ],
      "source": [
        "matrix = np.arange(16, 26, 1).reshape(2,5)\n",
        "print(np.std(matrix))"
      ]
    },
    {
      "cell_type": "markdown",
      "metadata": {
        "id": "R5aFCbZY5mrS"
      },
      "source": [
        "#### Get the sum of all the columns in mat"
      ]
    },
    {
      "cell_type": "code",
      "execution_count": 16,
      "metadata": {
        "id": "0AYjj_Zy5mrS",
        "outputId": "8aa2d1ca-8d41-48a1-f18c-c3269315610d"
      },
      "outputs": [
        {
          "data": {
            "text/plain": [
              "array([12, 15, 18])"
            ]
          },
          "execution_count": 16,
          "metadata": {},
          "output_type": "execute_result"
        }
      ],
      "source": [
        "arr = np.array([[1, 2, 3],[4, 5, 6],[7, 8, 9]])\n",
        "colSum = np.sum(arr,axis=0)\n",
        "colSum"
      ]
    },
    {
      "cell_type": "markdown",
      "metadata": {
        "collapsed": true,
        "id": "UJZ4X0d35mrT"
      },
      "source": [
        "# Great Job!"
      ]
    }
  ],
  "metadata": {
    "colab": {
      "include_colab_link": true,
      "provenance": []
    },
    "kernelspec": {
      "display_name": "Python 3",
      "language": "python",
      "name": "python3"
    },
    "language_info": {
      "codemirror_mode": {
        "name": "ipython",
        "version": 3
      },
      "file_extension": ".py",
      "mimetype": "text/x-python",
      "name": "python",
      "nbconvert_exporter": "python",
      "pygments_lexer": "ipython3",
      "version": "3.12.5"
    }
  },
  "nbformat": 4,
  "nbformat_minor": 0
}
