{
  "metadata": {
    "kernelspec": {
      "name": "python",
      "display_name": "Python (Pyodide)",
      "language": "python"
    },
    "language_info": {
      "codemirror_mode": {
        "name": "python",
        "version": 3
      },
      "file_extension": ".py",
      "mimetype": "text/x-python",
      "name": "python",
      "nbconvert_exporter": "python",
      "pygments_lexer": "ipython3",
      "version": "3.8"
    },
    "colab": {
      "provenance": []
    }
  },
  "nbformat_minor": 4,
  "nbformat": 4,
  "cells": [
    {
      "cell_type": "markdown",
      "source": "#Provided by AI SOCIETY.\n##Trainer- Sameer Nigam",
      "metadata": {
        "id": "T8g6INDN5En9"
      }
    },
    {
      "cell_type": "markdown",
      "source": "## Exercises\n\nAnswer the questions or complete the tasks outlined in bold below, use the specific method described if applicable.",
      "metadata": {
        "id": "OBnp7vdQ5EoE"
      }
    },
    {
      "cell_type": "markdown",
      "source": "** What is 7 to the power of 4?**",
      "metadata": {
        "id": "DHAeoSjY5EoK"
      }
    },
    {
      "cell_type": "code",
      "source": "7**4",
      "metadata": {
        "id": "y7VVCl9g5EoL",
        "outputId": "a1102b4e-9e9e-44d5-8c70-37798902e642",
        "trusted": true
      },
      "outputs": [
        {
          "execution_count": 1,
          "output_type": "execute_result",
          "data": {
            "text/plain": "2401"
          },
          "metadata": {}
        }
      ],
      "execution_count": 1
    },
    {
      "cell_type": "markdown",
      "source": "** Split this string:**\n\n    s = \"Hi there Sam!\"\n    \n**into a list. **",
      "metadata": {
        "id": "mO07LDVi5EoN"
      }
    },
    {
      "cell_type": "code",
      "source": "s = \"Hi there Sam!\"\ns.split()",
      "metadata": {
        "id": "FnGTOUiK5EoP",
        "trusted": true
      },
      "outputs": [
        {
          "execution_count": 13,
          "output_type": "execute_result",
          "data": {
            "text/plain": "['Hi', 'there', 'Sam!']"
          },
          "metadata": {}
        }
      ],
      "execution_count": 13
    },
    {
      "cell_type": "code",
      "source": "",
      "metadata": {
        "id": "c9hdkmXz5EoQ",
        "outputId": "76c4b8ab-4aa1-4f36-d3b3-7554ff0edcc9"
      },
      "outputs": [
        {
          "data": {
            "text/plain": [
              "['Hi', 'there', 'dad!']"
            ]
          },
          "execution_count": 3,
          "metadata": {},
          "output_type": "execute_result"
        }
      ],
      "execution_count": null
    },
    {
      "cell_type": "markdown",
      "source": "** Given the variables:**\n\n    planet = \"Earth\"\n    diameter = 12742\n\n** Use .format() to print the following string: **\n\n    The diameter of Earth is 12742 kilometers.",
      "metadata": {
        "id": "-68rTnAE5EoR"
      }
    },
    {
      "cell_type": "code",
      "source": "planet = \"Earth\"\ndiameter = 12742",
      "metadata": {
        "collapsed": true,
        "id": "ZYko6rom5EoS",
        "jupyter": {
          "outputs_hidden": true
        }
      },
      "outputs": [],
      "execution_count": null
    },
    {
      "cell_type": "code",
      "source": "planet = \"Earth\"\ndiameter = 12742\nprint(\"The diameter of {a} is {b} kilometers\".format(a=planet,b=diameter))",
      "metadata": {
        "id": "WBaFp9bp5EoU",
        "outputId": "b9b99735-4636-4168-b12f-185e8881b1b6",
        "trusted": true
      },
      "outputs": [
        {
          "name": "stdout",
          "text": "The diameter of Earth is 12742 kilometers\n",
          "output_type": "stream"
        }
      ],
      "execution_count": 16
    },
    {
      "cell_type": "markdown",
      "source": "** Given this nested list, use indexing to grab the word \"hello\" **",
      "metadata": {
        "id": "WIpp_igQ5EoU"
      }
    },
    {
      "cell_type": "code",
      "source": "lst = [1,2,[3,4],[5,[100,200,['hello']],23,11],1,7]",
      "metadata": {
        "id": "pQn1YWMo5EoV"
      },
      "outputs": [],
      "execution_count": null
    },
    {
      "cell_type": "code",
      "source": "lst = [1,2,[3,4],[5,[100,200,['hello']],23,11],1,7]\nlst[3][1][2][0]",
      "metadata": {
        "id": "9-p9PBXG5EoW",
        "outputId": "5c4470ba-68f1-4458-cc3a-c92c42a9ca6e",
        "trusted": true
      },
      "outputs": [
        {
          "execution_count": 3,
          "output_type": "execute_result",
          "data": {
            "text/plain": "'hello'"
          },
          "metadata": {}
        }
      ],
      "execution_count": 3
    },
    {
      "cell_type": "markdown",
      "source": "** Given this nested dictionary grab the word \"hello\". Be prepared, this will be annoying/tricky **",
      "metadata": {
        "id": "C_isk29X5EoW"
      }
    },
    {
      "cell_type": "code",
      "source": "d = {'k1':[1,2,3,{'tricky':['oh','man','inception',{'target':[1,2,3,'hello']}]}]}\nd.values()",
      "metadata": {
        "id": "k5U9sBtb5EoX",
        "trusted": true
      },
      "outputs": [
        {
          "execution_count": 4,
          "output_type": "execute_result",
          "data": {
            "text/plain": "dict_values([[1, 2, 3, {'tricky': ['oh', 'man', 'inception', {'target': [1, 2, 3, 'hello']}]}]])"
          },
          "metadata": {}
        }
      ],
      "execution_count": 4
    },
    {
      "cell_type": "code",
      "source": "print(d[\"k1\"][3][\"tricky\"][3][\"target\"][3])",
      "metadata": {
        "trusted": true
      },
      "outputs": [
        {
          "name": "stdout",
          "text": "hello\n",
          "output_type": "stream"
        }
      ],
      "execution_count": 25
    },
    {
      "cell_type": "markdown",
      "source": "** What is the main difference between a tuple and a list? **",
      "metadata": {
        "id": "xn23wekx5EoZ"
      }
    },
    {
      "cell_type": "code",
      "source": "# Tuple is immutable",
      "metadata": {
        "id": "eES42IiJ5Eoa"
      },
      "outputs": [],
      "execution_count": null
    },
    {
      "cell_type": "markdown",
      "source": "** Create a function that grabs the email website domain from a string in the form: **\n\n    user@domain.com\n    \n**So for example, passing \"user@domain.com\" would return: domain.com**",
      "metadata": {
        "id": "8PuVwv715Eoa"
      }
    },
    {
      "cell_type": "code",
      "source": "def domainGet(email) :\n    return email.split('@')[-1]",
      "metadata": {
        "id": "avYCYHa25Eoc",
        "trusted": true
      },
      "outputs": [],
      "execution_count": 53
    },
    {
      "cell_type": "code",
      "source": "domainGet('user@domain.com')",
      "metadata": {
        "id": "l8DmvFzz5Eoe",
        "outputId": "f14b1ed5-eaee-4c6f-f762-cbdc1212d32b",
        "trusted": true
      },
      "outputs": [
        {
          "execution_count": 54,
          "output_type": "execute_result",
          "data": {
            "text/plain": "'domain.com'"
          },
          "metadata": {}
        }
      ],
      "execution_count": 54
    },
    {
      "cell_type": "markdown",
      "source": "** Create a basic function that returns True if the word 'dog' is contained in the input string. Don't worry about edge cases like a punctuation being attached to the word dog, but do account for capitalization. **",
      "metadata": {
        "id": "j6_pxcVt5Eof"
      }
    },
    {
      "cell_type": "code",
      "source": "def findDog(str):\n    return \"dog\" in str",
      "metadata": {
        "id": "ohArj8ds5Eog",
        "trusted": true
      },
      "outputs": [],
      "execution_count": 63
    },
    {
      "cell_type": "code",
      "source": "findDog('Is there a dog here?')",
      "metadata": {
        "id": "CNer8Kxh5Eog",
        "outputId": "ac6ce58a-5e4c-4ac9-9d62-ab7a1e0abd79",
        "trusted": true
      },
      "outputs": [
        {
          "execution_count": 61,
          "output_type": "execute_result",
          "data": {
            "text/plain": "True"
          },
          "metadata": {}
        }
      ],
      "execution_count": 61
    },
    {
      "cell_type": "markdown",
      "source": "** Create a function that counts the number of times the word \"dog\" occurs in a string. Again ignore edge cases. **",
      "metadata": {
        "id": "QlZtT9hS5Eog"
      }
    },
    {
      "cell_type": "code",
      "source": "def countDog(str):\n    count = 0;\n    for word in str.lower().split():\n         if word == \"dog\":\n             count += 1\n        return count",
      "metadata": {
        "id": "lelonkxf5Eog",
        "trusted": true
      },
      "outputs": [],
      "execution_count": null
    },
    {
      "cell_type": "code",
      "source": "countDog('This dog runs faster than the other dog dude!')",
      "metadata": {
        "id": "OiHch4h25Eoh",
        "outputId": "2c21736e-b7f8-44ef-92cd-67d33a84a729",
        "trusted": true
      },
      "outputs": [
        {
          "execution_count": 71,
          "output_type": "execute_result",
          "data": {
            "text/plain": "2"
          },
          "metadata": {}
        }
      ],
      "execution_count": 73
    },
    {
      "cell_type": "markdown",
      "source": "** Use lambda expressions and the filter() function to filter out words from a list that don't start with the letter 's'. For example:**\n\n    seq = ['soup','dog','salad','cat','great']\n\n**should be filtered down to:**\n\n    ['soup','salad']",
      "metadata": {
        "id": "Px0cqF5o5Eoh"
      }
    },
    {
      "cell_type": "code",
      "source": "seq = ['soup','dog','salad','cat','great']",
      "metadata": {
        "collapsed": true,
        "id": "sELaphsp5Eoi",
        "jupyter": {
          "outputs_hidden": true
        }
      },
      "outputs": [],
      "execution_count": null
    },
    {
      "cell_type": "code",
      "source": "seq = ['soup','dog','salad','cat','great']\nlist(filter(lambda word:word[0]=='s', seq))",
      "metadata": {
        "id": "-c-Ga5hC5Eoi",
        "outputId": "116784b3-3f24-47c3-92cf-ea81022e28a2",
        "trusted": true
      },
      "outputs": [
        {
          "execution_count": 74,
          "output_type": "execute_result",
          "data": {
            "text/plain": "['soup', 'salad']"
          },
          "metadata": {}
        }
      ],
      "execution_count": 76
    },
    {
      "cell_type": "markdown",
      "source": "### Final Problem\n**You are driving a little too fast, and a police officer stops you. Write a function\n  to return one of 3 possible results: \"No ticket\", \"Small ticket\", or \"Big Ticket\". \n  If your speed is 60 or less, the result is \"No Ticket\". If speed is between 61 \n  and 80 inclusive, the result is \"Small Ticket\". If speed is 81 or more, the result is \"Big    Ticket\". Unless it is your birthday (encoded as a boolean value in the parameters of the function) -- on your birthday, your speed can be 5 higher in all \n  cases. **",
      "metadata": {
        "id": "bL-4-Ihp5Eoj"
      }
    },
    {
      "cell_type": "code",
      "source": "def caught_speeding(speed, is_birthday):\n    if is_birthday:\n        speeding = speed - 5 \n    else:\n        speeding = speed\n\n\n    if speeding >= 80:\n        return 'Big Ticket'\n    elif speeding >=60 :\n        return 'Small Ticket'\n    else:\n        'No Ticket'",
      "metadata": {
        "id": "2GKR0Run5Eoj",
        "trusted": true
      },
      "outputs": [],
      "execution_count": 77
    },
    {
      "cell_type": "code",
      "source": "caught_speeding(81,True)",
      "metadata": {
        "id": "_QVPSkdq5Eok",
        "outputId": "ebef9c78-8444-4580-9d56-22c7feaa60b2",
        "trusted": true
      },
      "outputs": [
        {
          "execution_count": 76,
          "output_type": "execute_result",
          "data": {
            "text/plain": "'Small Ticket'"
          },
          "metadata": {}
        }
      ],
      "execution_count": 78
    },
    {
      "cell_type": "code",
      "source": "caught_speeding(81,False)",
      "metadata": {
        "id": "5oDgarZ75Eok",
        "outputId": "fa373776-451d-4942-d21f-426270877e1c",
        "trusted": true
      },
      "outputs": [
        {
          "execution_count": 77,
          "output_type": "execute_result",
          "data": {
            "text/plain": "'Big Ticket'"
          },
          "metadata": {}
        }
      ],
      "execution_count": 79
    },
    {
      "cell_type": "markdown",
      "source": "# Great job!",
      "metadata": {
        "id": "2utXKavZ5Eol"
      }
    }
  ]
}