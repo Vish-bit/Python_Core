{
 "cells": [
  {
   "cell_type": "code",
   "execution_count": 1,
   "id": "a5534af8",
   "metadata": {},
   "outputs": [],
   "source": [
    "# import logging\n",
    "\n",
    "## Configure the basic logging setting\n",
    "# logging.basicConfig(level=logging.DEBUG)\n",
    "\n",
    "## Log messages for Log Levels\n",
    "# logging.debug(\"This is a debug message\")\n",
    "# logging.info(\"This is an info message\")\n",
    "# logging.warning(\"This is a warning message\")\n",
    "# logging.error(\"This is an error message\")\n",
    "# logging.critical(\"This is an critical message\")"
   ]
  },
  {
   "cell_type": "code",
   "execution_count": 2,
   "id": "bbe0e705",
   "metadata": {},
   "outputs": [],
   "source": [
    "## Configuring logging\n",
    "import logging\n",
    "\n",
    "\n",
    "logging.basicConfig(\n",
    "    filename='app.log',\n",
    "    filemode='w',\n",
    "    level = logging.DEBUG,\n",
    "    format= '%(asctime)s-%(levelname)s-%(message)s',\n",
    "    datefmt= '%Y-%m-%d %H:%M:%S'\n",
    ")\n",
    "\n",
    "## Log messages for Log Levels\n",
    "logging.debug(\"This is a debug message\")\n",
    "logging.info(\"This is an info message\")\n",
    "logging.warning(\"This is a warning message\")\n",
    "logging.error(\"This is an error message\")\n",
    "logging.critical(\"This is an critical message\")"
   ]
  },
  {
   "cell_type": "code",
   "execution_count": null,
   "id": "f7a1dd0d",
   "metadata": {},
   "outputs": [],
   "source": []
  },
  {
   "cell_type": "code",
   "execution_count": null,
   "id": "70bb9d4f",
   "metadata": {},
   "outputs": [],
   "source": []
  }
 ],
 "metadata": {
  "kernelspec": {
   "display_name": "Python 3",
   "language": "python",
   "name": "python3"
  },
  "language_info": {
   "codemirror_mode": {
    "name": "ipython",
    "version": 3
   },
   "file_extension": ".py",
   "mimetype": "text/x-python",
   "name": "python",
   "nbconvert_exporter": "python",
   "pygments_lexer": "ipython3",
   "version": "3.12.5"
  }
 },
 "nbformat": 4,
 "nbformat_minor": 5
}
