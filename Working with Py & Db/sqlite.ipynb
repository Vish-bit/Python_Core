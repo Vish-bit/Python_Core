{
 "cells": [
  {
   "cell_type": "markdown",
   "id": "2f00b4f5",
   "metadata": {},
   "source": [
    "## SQL is a standard language for managing and manipulating relational databases.\n",
    "## SQLite is a self-contained, serverless and zero-configuration db engine that is widely used for embedded db systems."
   ]
  },
  {
   "cell_type": "code",
   "execution_count": 2,
   "id": "290a171e",
   "metadata": {},
   "outputs": [],
   "source": [
    "import sqlite3"
   ]
  },
  {
   "cell_type": "code",
   "execution_count": 3,
   "id": "9bedb1f2",
   "metadata": {},
   "outputs": [
    {
     "data": {
      "text/plain": [
       "<sqlite3.Connection at 0x2b59908a980>"
      ]
     },
     "execution_count": 3,
     "metadata": {},
     "output_type": "execute_result"
    }
   ],
   "source": [
    "## Connect to a SQLite db\n",
    "connection = sqlite3.connect('example.db')\n",
    "connection"
   ]
  },
  {
   "cell_type": "code",
   "execution_count": 4,
   "id": "691da6b9",
   "metadata": {},
   "outputs": [],
   "source": [
    "cursor = connection.cursor()"
   ]
  },
  {
   "cell_type": "code",
   "execution_count": 5,
   "id": "41fc4ebd",
   "metadata": {},
   "outputs": [],
   "source": [
    "## Create a Table\n",
    "cursor.execute('''\n",
    "Create Table If Not Exists employees(\n",
    "    id Integer Primary Key,\n",
    "    name Text Not Null,\n",
    "    age Int,\n",
    "    department text\n",
    "    )\n",
    "''')\n",
    "\n",
    "## Commit the changes\n",
    "connection.commit()"
   ]
  },
  {
   "cell_type": "code",
   "execution_count": 6,
   "id": "3d8baff8",
   "metadata": {},
   "outputs": [
    {
     "data": {
      "text/plain": [
       "<sqlite3.Cursor at 0x2b598edc4c0>"
      ]
     },
     "execution_count": 6,
     "metadata": {},
     "output_type": "execute_result"
    }
   ],
   "source": [
    "cursor.execute('''\n",
    "Select * from employees\n",
    "''')"
   ]
  },
  {
   "cell_type": "code",
   "execution_count": 7,
   "id": "d18c6ee6",
   "metadata": {},
   "outputs": [],
   "source": [
    "## Insert the data insqlite table\n",
    "cursor.execute('''\n",
    "Insert into employees(name, age, department)\n",
    "               values('Vish', 27, 'Data Scientist')\n",
    "''')\n",
    "\n",
    "cursor.execute('''\n",
    "Insert into employees(name, age, department)\n",
    "               values('John', 32, 'Software Dev')\n",
    "''')\n",
    "\n",
    "cursor.execute('''\n",
    "Insert into employees(name, age, department)\n",
    "               values('Bob', 25, 'Data Scientist')\n",
    "''')\n",
    "\n",
    "## commit the changes\n",
    "connection.commit()"
   ]
  },
  {
   "cell_type": "code",
   "execution_count": 10,
   "id": "992412c8",
   "metadata": {},
   "outputs": [
    {
     "name": "stdout",
     "output_type": "stream",
     "text": [
      "(1, 'Vish', 27, 'Data Scientist')\n",
      "(2, 'John', 32, 'Software Dev')\n",
      "(3, 'Bob', 25, 'Data Scientist')\n"
     ]
    }
   ],
   "source": [
    "## Query the data from the table\n",
    "cursor.execute('Select * from employees')\n",
    "rows = cursor.fetchall()\n",
    "\n",
    "## Print the queried data\n",
    "for row in rows:\n",
    "    print(row)"
   ]
  },
  {
   "cell_type": "code",
   "execution_count": 12,
   "id": "9ae5b313",
   "metadata": {},
   "outputs": [],
   "source": [
    "## Update the data in the table\n",
    "cursor.execute('''\n",
    "UPDATE employees\n",
    "               SET age = 34\n",
    "               where name = 'John'\n",
    "''')\n",
    "\n",
    "connection.commit()"
   ]
  },
  {
   "cell_type": "code",
   "execution_count": 13,
   "id": "b0639dc0",
   "metadata": {},
   "outputs": [
    {
     "name": "stdout",
     "output_type": "stream",
     "text": [
      "(1, 'Vish', 27, 'Data Scientist')\n",
      "(2, 'John', 34, 'Software Dev')\n",
      "(3, 'Bob', 25, 'Data Scientist')\n"
     ]
    }
   ],
   "source": [
    "## Query the data from the table\n",
    "cursor.execute('Select * from employees')\n",
    "rows = cursor.fetchall()\n",
    "\n",
    "## Print the queried data\n",
    "for row in rows:\n",
    "    print(row)"
   ]
  },
  {
   "cell_type": "code",
   "execution_count": 14,
   "id": "5685afe1",
   "metadata": {},
   "outputs": [],
   "source": [
    "## Delete the data from table \n",
    "cursor.execute('''\n",
    "DELETE from employees\n",
    "               where name = 'John'\n",
    "''')\n",
    "\n",
    "connection.commit()"
   ]
  },
  {
   "cell_type": "code",
   "execution_count": 15,
   "id": "7fd15cf8",
   "metadata": {},
   "outputs": [
    {
     "name": "stdout",
     "output_type": "stream",
     "text": [
      "(1, 'Vish', 27, 'Data Scientist')\n",
      "(3, 'Bob', 25, 'Data Scientist')\n"
     ]
    }
   ],
   "source": [
    "cursor.execute('Select * from employees')\n",
    "rows = cursor.fetchall()\n",
    "\n",
    "## Print the queried data\n",
    "for row in rows:\n",
    "    print(row)"
   ]
  },
  {
   "cell_type": "code",
   "execution_count": 17,
   "id": "cb7a68d1",
   "metadata": {},
   "outputs": [],
   "source": [
    "## Working with Sales Data\n",
    "\n",
    "# Connect to an SQLite database\n",
    "connection = sqlite3.connect('sales_data.db')\n",
    "cursor = connection.cursor()\n",
    "\n",
    "#Create a table for sales data\n",
    "cursor.execute('''\n",
    "Create Table If Not Exists sales(\n",
    "    id Integer Primary Key,\n",
    "    date Text Not Null,\n",
    "    product Text Not Null,\n",
    "    sales Integer,\n",
    "    region Text\n",
    "    )\n",
    "''')\n",
    "\n",
    "# Insert data into the sales table\n",
    "sales_data = [\n",
    "    ('2024-01-01', 'Product1', 250, 'North'),\n",
    "    ('2024-01-02', 'Product1', 150, 'West'),\n",
    "    ('2024-01-03', 'Product3', 100, 'East'),\n",
    "    ('2024-01-04', 'Product4', 300, 'South'),\n",
    "    ('2024-01-05', 'Product5', 200, 'North')\n",
    "]\n",
    "\n",
    "cursor.executemany('''\n",
    "Insert into sales(date, product, sales, region)\n",
    "                   values(?,?,?,?)\n",
    "''', sales_data)\n",
    "\n",
    "connection.commit()"
   ]
  },
  {
   "cell_type": "code",
   "execution_count": 18,
   "id": "d5885bcf",
   "metadata": {},
   "outputs": [
    {
     "name": "stdout",
     "output_type": "stream",
     "text": [
      "(1, '2024-01-01', 'Product1', 250, 'North')\n",
      "(2, '2024-01-02', 'Product1', 150, 'West')\n",
      "(3, '2024-01-03', 'Product3', 100, 'East')\n",
      "(4, '2024-01-04', 'Product4', 300, 'South')\n",
      "(5, '2024-01-05', 'Product5', 200, 'North')\n"
     ]
    }
   ],
   "source": [
    "cursor.execute('Select * from sales')\n",
    "rows = cursor.fetchall()\n",
    "\n",
    "## Print the queried data\n",
    "for row in rows:\n",
    "    print(row)"
   ]
  },
  {
   "cell_type": "code",
   "execution_count": 19,
   "id": "17ec92cb",
   "metadata": {},
   "outputs": [],
   "source": [
    "## Close the connection\n",
    "connection.close()"
   ]
  },
  {
   "cell_type": "code",
   "execution_count": null,
   "id": "feeb75a8",
   "metadata": {},
   "outputs": [],
   "source": []
  }
 ],
 "metadata": {
  "kernelspec": {
   "display_name": "Python 3",
   "language": "python",
   "name": "python3"
  },
  "language_info": {
   "codemirror_mode": {
    "name": "ipython",
    "version": 3
   },
   "file_extension": ".py",
   "mimetype": "text/x-python",
   "name": "python",
   "nbconvert_exporter": "python",
   "pygments_lexer": "ipython3",
   "version": "3.12.5"
  }
 },
 "nbformat": 4,
 "nbformat_minor": 5
}
