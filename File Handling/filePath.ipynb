{
 "cells": [
  {
   "cell_type": "markdown",
   "id": "2a262214",
   "metadata": {},
   "source": [
    "# Working with Files"
   ]
  },
  {
   "cell_type": "code",
   "execution_count": 2,
   "id": "b8734739",
   "metadata": {},
   "outputs": [
    {
     "name": "stdout",
     "output_type": "stream",
     "text": [
      "Directory `package`\n"
     ]
    }
   ],
   "source": [
    "# Create new directory\n",
    "import os\n",
    "new_dir = \"package\"\n",
    "os.mkdir(new_dir)\n",
    "print(f\"Directory `{new_dir}`\")"
   ]
  },
  {
   "cell_type": "code",
   "execution_count": null,
   "id": "c1a335ec",
   "metadata": {},
   "outputs": [
    {
     "name": "stdout",
     "output_type": "stream",
     "text": [
      "['destination.txt', 'example.bin', 'example.txt', 'fileOperations.ipynb', 'filePath.ipynb', 'package']\n"
     ]
    }
   ],
   "source": [
    "#Listing files and directories\n",
    "items = os.listdir('.') #looking into current dir\n",
    "print(items)"
   ]
  },
  {
   "cell_type": "code",
   "execution_count": 6,
   "id": "f1280584",
   "metadata": {},
   "outputs": [
    {
     "name": "stdout",
     "output_type": "stream",
     "text": [
      "f:\\My Projects\\Python_Core\\File Handling\\folder\\file.txt\n"
     ]
    }
   ],
   "source": [
    "dir_name = \"folder\"\n",
    "file_name = \"file.txt\"\n",
    "full_path = os.path.join(os.getcwd(),dir_name, file_name)\n",
    "print(full_path)"
   ]
  },
  {
   "cell_type": "code",
   "execution_count": 7,
   "id": "95b61958",
   "metadata": {},
   "outputs": [
    {
     "name": "stdout",
     "output_type": "stream",
     "text": [
      "This path exists `example.txt\n"
     ]
    }
   ],
   "source": [
    "path = 'example.txt'\n",
    "if os.path.exists(path):\n",
    "    print(f\"This path exists `{path}\")\n",
    "else:\n",
    "    print(f\"This path `{path}` does not exists\")"
   ]
  },
  {
   "cell_type": "code",
   "execution_count": 8,
   "id": "7680a9a5",
   "metadata": {},
   "outputs": [
    {
     "name": "stdout",
     "output_type": "stream",
     "text": [
      "This path `example.txt` is a File\n"
     ]
    }
   ],
   "source": [
    "#Checking if a path is a File or Diretory\n",
    "path = 'example.txt'\n",
    "if os.path.isfile(path):\n",
    "    print(f\"This path `{path}` is a File\")\n",
    "elif os.path.isdir(path):\n",
    "    print(f\"This path `{path}` is a Diectory\")\n",
    "else: \n",
    "    print(f\"This path `{path}` is niether a File nor a Directory\")"
   ]
  },
  {
   "cell_type": "code",
   "execution_count": 10,
   "id": "6c49200d",
   "metadata": {},
   "outputs": [
    {
     "name": "stdout",
     "output_type": "stream",
     "text": [
      "f:\\My Projects\\Python_Core\\File Handling\\example.txt\n"
     ]
    }
   ],
   "source": [
    "# Getting absolute path\n",
    "rel_path = 'example.txt'\n",
    "abs_path = os.path.abspath(rel_path)\n",
    "print(abs_path)"
   ]
  },
  {
   "cell_type": "code",
   "execution_count": null,
   "id": "a844542a",
   "metadata": {},
   "outputs": [],
   "source": []
  }
 ],
 "metadata": {
  "kernelspec": {
   "display_name": "Python 3",
   "language": "python",
   "name": "python3"
  },
  "language_info": {
   "codemirror_mode": {
    "name": "ipython",
    "version": 3
   },
   "file_extension": ".py",
   "mimetype": "text/x-python",
   "name": "python",
   "nbconvert_exporter": "python",
   "pygments_lexer": "ipython3",
   "version": "3.12.5"
  }
 },
 "nbformat": 4,
 "nbformat_minor": 5
}
