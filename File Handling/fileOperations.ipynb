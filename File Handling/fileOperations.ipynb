{
 "cells": [
  {
   "cell_type": "markdown",
   "id": "05b8bc85",
   "metadata": {},
   "source": [
    "# File Operation - Read and Write Files"
   ]
  },
  {
   "cell_type": "markdown",
   "id": "056d8fb1",
   "metadata": {},
   "source": [
    "## Read whole file ##"
   ]
  },
  {
   "cell_type": "code",
   "execution_count": 1,
   "id": "3d68176a",
   "metadata": {},
   "outputs": [
    {
     "name": "stdout",
     "output_type": "stream",
     "text": [
      "Hello World \n",
      "I am learning Python for Data Engineering\n",
      "\n"
     ]
    }
   ],
   "source": [
    "with open('example.txt', 'r') as file:\n",
    "    content = file.read()\n",
    "    print(content)\n"
   ]
  },
  {
   "cell_type": "code",
   "execution_count": 4,
   "id": "0ab433cc",
   "metadata": {},
   "outputs": [
    {
     "name": "stdout",
     "output_type": "stream",
     "text": [
      "Hello World\n",
      "I am learning Python for Data Engineering\n"
     ]
    }
   ],
   "source": [
    "## Read a file line by line ##\n",
    "with open('example.txt', 'r') as file:\n",
    "    for line in file:\n",
    "        print(line.strip()) #strip removes the newline character\n"
   ]
  },
  {
   "cell_type": "code",
   "execution_count": 5,
   "id": "ddc2b627",
   "metadata": {},
   "outputs": [],
   "source": [
    "## Writing a file (overwritting)\n",
    "with open('example.txt', 'w') as file:\n",
    "    file.write('Hello World!\\n')\n",
    "    file.write('This is a new line')"
   ]
  },
  {
   "cell_type": "code",
   "execution_count": 7,
   "id": "befed64b",
   "metadata": {},
   "outputs": [],
   "source": [
    "## Write a file without Overwritting\n",
    "\n",
    "with open('example.txt', 'a') as file:\n",
    "    file.write('\\nAppend operation taking place')"
   ]
  },
  {
   "cell_type": "code",
   "execution_count": 9,
   "id": "3aac059e",
   "metadata": {},
   "outputs": [],
   "source": [
    "## Write list of lines\n",
    "lines = ['\\nFirst Line','\\nSecond Line']\n",
    "with open('example.txt','a') as file:\n",
    "    file.writelines(lines)"
   ]
  },
  {
   "cell_type": "code",
   "execution_count": 1,
   "id": "3196007b",
   "metadata": {},
   "outputs": [],
   "source": [
    "## Binary files\n",
    "data = b'\\x00\\x01\\x02\\x03\\x04'\n",
    "with open('example.bin', 'wb') as file:\n",
    "    file.write(data)\n"
   ]
  },
  {
   "cell_type": "code",
   "execution_count": 2,
   "id": "a64c92bf",
   "metadata": {},
   "outputs": [
    {
     "name": "stdout",
     "output_type": "stream",
     "text": [
      "b'\\x00\\x01\\x02\\x03\\x04'\n"
     ]
    }
   ],
   "source": [
    "## Reading Binary file\n",
    "with open('example.bin', 'rb') as file:\n",
    "    print(file.read())"
   ]
  },
  {
   "cell_type": "code",
   "execution_count": 4,
   "id": "47e2572e",
   "metadata": {},
   "outputs": [],
   "source": [
    "## Read the content from source text file and write to a destination text file\n",
    "with open('example.bin', 'r') as source_file:\n",
    "    content = source_file.read()\n",
    "\n",
    "with open('destination.txt', 'w') as destination_file:\n",
    "    destination_file.write(content)"
   ]
  },
  {
   "cell_type": "code",
   "execution_count": 6,
   "id": "b9e21352",
   "metadata": {},
   "outputs": [
    {
     "name": "stdout",
     "output_type": "stream",
     "text": [
      "Lines: 7, Words: 19, Characters: 115\n"
     ]
    }
   ],
   "source": [
    "#COunting lines, words and characters\n",
    "def count_txt_file(file_path):\n",
    "    with open(file_path,'r') as file:\n",
    "        lines = file.readlines()\n",
    "        line_count = len(lines)\n",
    "        word_count = sum(len(line.split()) for line in lines)\n",
    "        char_count = sum(len(line) for line in lines)\n",
    "    return line_count, word_count, char_count\n",
    "\n",
    "file_path = 'example.txt'\n",
    "lines, words, characters = count_txt_file(file_path)\n",
    "print(f'Lines: {lines}, Words: {words}, Characters: {characters}')\n"
   ]
  },
  {
   "cell_type": "code",
   "execution_count": null,
   "id": "9ba9dbb6",
   "metadata": {},
   "outputs": [],
   "source": []
  }
 ],
 "metadata": {
  "kernelspec": {
   "display_name": "Python 3",
   "language": "python",
   "name": "python3"
  },
  "language_info": {
   "codemirror_mode": {
    "name": "ipython",
    "version": 3
   },
   "file_extension": ".py",
   "mimetype": "text/x-python",
   "name": "python",
   "nbconvert_exporter": "python",
   "pygments_lexer": "ipython3",
   "version": "3.12.5"
  }
 },
 "nbformat": 4,
 "nbformat_minor": 5
}
