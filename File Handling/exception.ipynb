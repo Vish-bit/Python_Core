{
 "cells": [
  {
   "cell_type": "markdown",
   "id": "1aa79b1d",
   "metadata": {},
   "source": [
    "# Exception Hnadling in Python allows to handle errors gracefully and take corrective actions without stopping the execution of the program"
   ]
  },
  {
   "cell_type": "markdown",
   "id": "c114675b",
   "metadata": {},
   "source": [
    "## Exceptions are events that disrupt the normal flow of program. Common exceptions include:\n",
    "1. ZeroDivisionError \n",
    "2. FileNotFoundError\n",
    "3. ValueError\n",
    "4. TypeError"
   ]
  },
  {
   "cell_type": "markdown",
   "id": "e907253d",
   "metadata": {},
   "source": [
    "### Exception try, except, block"
   ]
  },
  {
   "cell_type": "code",
   "execution_count": 1,
   "id": "624a362d",
   "metadata": {},
   "outputs": [
    {
     "name": "stdout",
     "output_type": "stream",
     "text": [
      "name 'b' is not defined\n"
     ]
    }
   ],
   "source": [
    "try:\n",
    "    a=b\n",
    "except NameError as ex:\n",
    "    print(ex)"
   ]
  },
  {
   "cell_type": "code",
   "execution_count": 7,
   "id": "257c7e42",
   "metadata": {},
   "outputs": [
    {
     "name": "stdout",
     "output_type": "stream",
     "text": [
      "division by zero\n",
      "Please enter the denominator greater than 0\n"
     ]
    }
   ],
   "source": [
    "try:\n",
    "    result = 1/0\n",
    "    a=b\n",
    "except ZeroDivisionError as ex:\n",
    "    print(ex)\n",
    "    print(\"Please enter the denominator greater than 0\")\n",
    "except Exception as ex1:\n",
    "    print(ex1)\n",
    "    print(\"Main exception got caught here\")"
   ]
  },
  {
   "cell_type": "code",
   "execution_count": 12,
   "id": "378fd4f4",
   "metadata": {},
   "outputs": [
    {
     "name": "stdout",
     "output_type": "stream",
     "text": [
      "Not a valid number\n"
     ]
    }
   ],
   "source": [
    "try: \n",
    "    num = int(input(\"Enter a number\"))\n",
    "    result = 10/num\n",
    "except ValueError:\n",
    "    print(\"Not a valid number\")\n",
    "except ZeroDivisionError:\n",
    "    print(\"Please enter the denominator greater than 0\")\n",
    "except Exception as ex:\n",
    "    print(ex)"
   ]
  },
  {
   "cell_type": "code",
   "execution_count": 17,
   "id": "239ddd11",
   "metadata": {},
   "outputs": [
    {
     "name": "stdout",
     "output_type": "stream",
     "text": [
      "The result is 1.25\n",
      "Execution Complete!\n"
     ]
    }
   ],
   "source": [
    "try: \n",
    "    num = int(input(\"Enter a number\"))\n",
    "    result = 10/num\n",
    "except ValueError:\n",
    "    print(\"Invalid nummber\")\n",
    "except ZeroDivisionError:\n",
    "    print(\"You cant divide by zero\")\n",
    "except Exception as ex:\n",
    "    print(ex)\n",
    "else: # If no error else gets executed\n",
    "    print(f\"The result is {result}\")\n",
    "finally: # It has to execute in any case \n",
    "    print(\"Execution Complete!\")\n"
   ]
  }
 ],
 "metadata": {
  "kernelspec": {
   "display_name": "Python 3",
   "language": "python",
   "name": "python3"
  },
  "language_info": {
   "codemirror_mode": {
    "name": "ipython",
    "version": 3
   },
   "file_extension": ".py",
   "mimetype": "text/x-python",
   "name": "python",
   "nbconvert_exporter": "python",
   "pygments_lexer": "ipython3",
   "version": "3.12.5"
  }
 },
 "nbformat": 4,
 "nbformat_minor": 5
}
